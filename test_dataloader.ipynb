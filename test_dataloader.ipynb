{
 "cells": [
  {
   "cell_type": "code",
   "execution_count": 1,
   "metadata": {},
   "outputs": [],
   "source": [
    "from data_aug.dataset_wrapper import DataSetWrapper\n",
    "\n",
    "dataset = DataSetWrapper(8, 0, 0.05, \"(96,96,3)\", 1)"
   ]
  },
  {
   "cell_type": "code",
   "execution_count": 2,
   "metadata": {},
   "outputs": [
    {
     "name": "stdout",
     "output_type": "stream",
     "text": [
      "Files already downloaded and verified\n"
     ]
    }
   ],
   "source": [
    "train_loader, valid_loader = dataset.get_data_loaders()"
   ]
  },
  {
   "cell_type": "code",
   "execution_count": 31,
   "metadata": {},
   "outputs": [],
   "source": [
    "a = dataset.train_dataset[1]"
   ]
  },
  {
   "cell_type": "code",
   "execution_count": 32,
   "metadata": {},
   "outputs": [
    {
     "data": {
      "text/plain": [
       "(tensor([[[0.8235, 0.8275, 0.8353,  ..., 0.6784, 0.6784, 0.6784],\n",
       "          [0.8275, 0.8275, 0.8314,  ..., 0.6824, 0.6824, 0.6824],\n",
       "          [0.8314, 0.8314, 0.8275,  ..., 0.6863, 0.6902, 0.6902],\n",
       "          ...,\n",
       "          [0.9373, 0.9373, 0.9373,  ..., 0.9451, 0.9451, 0.9451],\n",
       "          [0.9412, 0.9412, 0.9412,  ..., 0.9451, 0.9451, 0.9451],\n",
       "          [0.9412, 0.9412, 0.9373,  ..., 0.9451, 0.9451, 0.9451]],\n",
       " \n",
       "         [[0.6196, 0.6157, 0.6118,  ..., 0.4431, 0.4392, 0.4392],\n",
       "          [0.6235, 0.6196, 0.6118,  ..., 0.4471, 0.4431, 0.4431],\n",
       "          [0.6392, 0.6314, 0.6118,  ..., 0.4471, 0.4471, 0.4471],\n",
       "          ...,\n",
       "          [0.7451, 0.7490, 0.7451,  ..., 0.8078, 0.8039, 0.8000],\n",
       "          [0.7490, 0.7451, 0.7412,  ..., 0.8118, 0.8039, 0.8039],\n",
       "          [0.7490, 0.7451, 0.7412,  ..., 0.8118, 0.8039, 0.8039]],\n",
       " \n",
       "         [[0.5412, 0.5451, 0.5529,  ..., 0.4275, 0.4235, 0.4196],\n",
       "          [0.5412, 0.5451, 0.5490,  ..., 0.4314, 0.4275, 0.4235],\n",
       "          [0.5451, 0.5412, 0.5412,  ..., 0.4353, 0.4353, 0.4314],\n",
       "          ...,\n",
       "          [0.6784, 0.6824, 0.6824,  ..., 0.7333, 0.7333, 0.7294],\n",
       "          [0.6863, 0.6863, 0.6824,  ..., 0.7333, 0.7294, 0.7255],\n",
       "          [0.6863, 0.6863, 0.6824,  ..., 0.7333, 0.7255, 0.7216]]]),\n",
       " tensor([[[0.4510, 0.4510, 0.4471,  ..., 0.5490, 0.5529, 0.5529],\n",
       "          [0.4431, 0.4392, 0.4392,  ..., 0.5569, 0.5569, 0.5569],\n",
       "          [0.4275, 0.4235, 0.4235,  ..., 0.5647, 0.5608, 0.5569],\n",
       "          ...,\n",
       "          [0.6549, 0.6431, 0.6275,  ..., 0.5725, 0.5843, 0.5804],\n",
       "          [0.6706, 0.6627, 0.6471,  ..., 0.5294, 0.5608, 0.5725],\n",
       "          [0.6784, 0.6745, 0.6667,  ..., 0.5098, 0.5451, 0.5686]],\n",
       " \n",
       "         [[0.4510, 0.4510, 0.4471,  ..., 0.5490, 0.5529, 0.5529],\n",
       "          [0.4431, 0.4392, 0.4392,  ..., 0.5569, 0.5569, 0.5569],\n",
       "          [0.4275, 0.4235, 0.4235,  ..., 0.5647, 0.5608, 0.5569],\n",
       "          ...,\n",
       "          [0.6549, 0.6431, 0.6275,  ..., 0.5725, 0.5843, 0.5804],\n",
       "          [0.6706, 0.6627, 0.6471,  ..., 0.5294, 0.5608, 0.5725],\n",
       "          [0.6784, 0.6745, 0.6667,  ..., 0.5098, 0.5451, 0.5686]],\n",
       " \n",
       "         [[0.4510, 0.4510, 0.4471,  ..., 0.5490, 0.5529, 0.5529],\n",
       "          [0.4431, 0.4392, 0.4392,  ..., 0.5569, 0.5569, 0.5569],\n",
       "          [0.4275, 0.4235, 0.4235,  ..., 0.5647, 0.5608, 0.5569],\n",
       "          ...,\n",
       "          [0.6549, 0.6431, 0.6275,  ..., 0.5725, 0.5843, 0.5804],\n",
       "          [0.6706, 0.6627, 0.6471,  ..., 0.5294, 0.5608, 0.5725],\n",
       "          [0.6784, 0.6745, 0.6667,  ..., 0.5098, 0.5451, 0.5686]]]))"
      ]
     },
     "execution_count": 32,
     "metadata": {},
     "output_type": "execute_result"
    }
   ],
   "source": [
    "a[0]"
   ]
  },
  {
   "cell_type": "code",
   "execution_count": 33,
   "metadata": {},
   "outputs": [
    {
     "data": {
      "text/plain": [
       "5"
      ]
     },
     "execution_count": 33,
     "metadata": {},
     "output_type": "execute_result"
    }
   ],
   "source": [
    "a[1]"
   ]
  },
  {
   "cell_type": "code",
   "execution_count": 3,
   "metadata": {},
   "outputs": [
    {
     "data": {
      "text/plain": [
       "<torch.utils.data.dataloader.DataLoader at 0x7f6b1328f990>"
      ]
     },
     "execution_count": 3,
     "metadata": {},
     "output_type": "execute_result"
    }
   ],
   "source": [
    "train_loader"
   ]
  },
  {
   "cell_type": "code",
   "execution_count": 4,
   "metadata": {},
   "outputs": [],
   "source": [
    "for i_batch, sample_batched in enumerate(train_loader):\n",
    "    break"
   ]
  },
  {
   "cell_type": "code",
   "execution_count": 5,
   "metadata": {},
   "outputs": [
    {
     "data": {
      "text/plain": [
       "0"
      ]
     },
     "execution_count": 5,
     "metadata": {},
     "output_type": "execute_result"
    }
   ],
   "source": [
    "i_batch"
   ]
  },
  {
   "cell_type": "code",
   "execution_count": 9,
   "metadata": {},
   "outputs": [
    {
     "data": {
      "text/plain": [
       "2"
      ]
     },
     "execution_count": 9,
     "metadata": {},
     "output_type": "execute_result"
    }
   ],
   "source": [
    "len(sample_batched)"
   ]
  },
  {
   "cell_type": "code",
   "execution_count": 11,
   "metadata": {},
   "outputs": [
    {
     "data": {
      "text/plain": [
       "2"
      ]
     },
     "execution_count": 11,
     "metadata": {},
     "output_type": "execute_result"
    }
   ],
   "source": [
    "len(sample_batched[0])"
   ]
  },
  {
   "cell_type": "code",
   "execution_count": 14,
   "metadata": {},
   "outputs": [
    {
     "data": {
      "text/plain": [
       "torch.Size([8, 3, 96, 96])"
      ]
     },
     "execution_count": 14,
     "metadata": {},
     "output_type": "execute_result"
    }
   ],
   "source": [
    "sample_batched[0][0].shape"
   ]
  },
  {
   "cell_type": "code",
   "execution_count": 23,
   "metadata": {},
   "outputs": [
    {
     "data": {
      "text/plain": [
       "torch.Size([8, 3, 96, 96])"
      ]
     },
     "execution_count": 23,
     "metadata": {},
     "output_type": "execute_result"
    }
   ],
   "source": [
    "sample_batched[0][1].shape"
   ]
  },
  {
   "cell_type": "code",
   "execution_count": 21,
   "metadata": {},
   "outputs": [
    {
     "data": {
      "text/plain": [
       "8"
      ]
     },
     "execution_count": 21,
     "metadata": {},
     "output_type": "execute_result"
    }
   ],
   "source": [
    "len(sample_batched[1])"
   ]
  },
  {
   "cell_type": "code",
   "execution_count": 6,
   "metadata": {},
   "outputs": [],
   "source": [
    "for i, k in enumerate(valid_loader):\n",
    "    break"
   ]
  },
  {
   "cell_type": "code",
   "execution_count": 35,
   "metadata": {},
   "outputs": [
    {
     "data": {
      "text/plain": [
       "0"
      ]
     },
     "execution_count": 35,
     "metadata": {},
     "output_type": "execute_result"
    }
   ],
   "source": [
    "i"
   ]
  },
  {
   "cell_type": "code",
   "execution_count": 36,
   "metadata": {},
   "outputs": [
    {
     "data": {
      "text/plain": [
       "2"
      ]
     },
     "execution_count": 36,
     "metadata": {},
     "output_type": "execute_result"
    }
   ],
   "source": [
    "len(k)"
   ]
  },
  {
   "cell_type": "code",
   "execution_count": 37,
   "metadata": {},
   "outputs": [
    {
     "data": {
      "text/plain": [
       "2"
      ]
     },
     "execution_count": 37,
     "metadata": {},
     "output_type": "execute_result"
    }
   ],
   "source": [
    "len(k[0])"
   ]
  },
  {
   "cell_type": "code",
   "execution_count": 38,
   "metadata": {},
   "outputs": [
    {
     "data": {
      "text/plain": [
       "8"
      ]
     },
     "execution_count": 38,
     "metadata": {},
     "output_type": "execute_result"
    }
   ],
   "source": [
    "len(k[1])"
   ]
  },
  {
   "cell_type": "code",
   "execution_count": 1,
   "metadata": {},
   "outputs": [],
   "source": [
    "from data_aug.facemask_dataset_wrapper import DataSetWrapper\n",
    "\n",
    "dataset = DataSetWrapper(8, 0, 0.05, \"(96,96,3)\", 1)"
   ]
  },
  {
   "cell_type": "code",
   "execution_count": 2,
   "metadata": {},
   "outputs": [],
   "source": [
    "train_loader, valid_loader = dataset.get_data_loaders()"
   ]
  },
  {
   "cell_type": "code",
   "execution_count": 3,
   "metadata": {},
   "outputs": [],
   "source": [
    "for i_batch, sample_batched in enumerate(valid_loader):\n",
    "    break"
   ]
  },
  {
   "cell_type": "code",
   "execution_count": 4,
   "metadata": {},
   "outputs": [
    {
     "data": {
      "text/plain": [
       "0"
      ]
     },
     "execution_count": 4,
     "metadata": {},
     "output_type": "execute_result"
    }
   ],
   "source": [
    "i_batch"
   ]
  },
  {
   "cell_type": "code",
   "execution_count": 5,
   "metadata": {},
   "outputs": [
    {
     "data": {
      "text/plain": [
       "2"
      ]
     },
     "execution_count": 5,
     "metadata": {},
     "output_type": "execute_result"
    }
   ],
   "source": [
    "len(sample_batched)"
   ]
  },
  {
   "cell_type": "code",
   "execution_count": 6,
   "metadata": {},
   "outputs": [
    {
     "data": {
      "text/plain": [
       "2"
      ]
     },
     "execution_count": 6,
     "metadata": {},
     "output_type": "execute_result"
    }
   ],
   "source": [
    "len(sample_batched[0])"
   ]
  },
  {
   "cell_type": "code",
   "execution_count": 7,
   "metadata": {},
   "outputs": [
    {
     "data": {
      "text/plain": [
       "torch.Size([8, 3, 96, 96])"
      ]
     },
     "execution_count": 7,
     "metadata": {},
     "output_type": "execute_result"
    }
   ],
   "source": [
    "sample_batched[0][0].shape"
   ]
  },
  {
   "cell_type": "code",
   "execution_count": 8,
   "metadata": {},
   "outputs": [],
   "source": [
    "import torchvision.transforms as transforms\n",
    "a = transforms.ToPILImage()"
   ]
  },
  {
   "cell_type": "code",
   "execution_count": 13,
   "metadata": {},
   "outputs": [
    {
     "data": {
      "image/png": "[encoded data removed]",
      "text/plain": [
       "<PIL.Image.Image image mode=RGB size=96x96 at 0x7F16F2C78F10>"
      ]
     },
     "execution_count": 13,
     "metadata": {},
     "output_type": "execute_result"
    }
   ],
   "source": [
    "a(sample_batched[0][0][4])"
   ]
  },
  {
   "cell_type": "code",
   "execution_count": 10,
   "metadata": {},
   "outputs": [
    {
     "data": {
      "image/png": "[encoded data removed]",
      "text/plain": [
       "<PIL.Image.Image image mode=RGB size=96x96 at 0x7F16F64F7090>"
      ]
     },
     "execution_count": 10,
     "metadata": {},
     "output_type": "execute_result"
    }
   ],
   "source": [
    "a(sample_batched[0][1][4])"
   ]
  },
  {
   "cell_type": "code",
   "execution_count": 11,
   "metadata": {},
   "outputs": [
    {
     "data": {
      "text/plain": [
       "8"
      ]
     },
     "execution_count": 11,
     "metadata": {},
     "output_type": "execute_result"
    }
   ],
   "source": [
    "len(sample_batched[1])"
   ]
  },
  {
   "cell_type": "code",
   "execution_count": 12,
   "metadata": {},
   "outputs": [
    {
     "data": {
      "text/plain": [
       "tensor([False,  True,  True,  True,  True,  True,  True, False])"
      ]
     },
     "execution_count": 12,
     "metadata": {},
     "output_type": "execute_result"
    }
   ],
   "source": [
    "sample_batched[1]"
   ]
  },
  {
   "cell_type": "code",
   "execution_count": 15,
   "metadata": {},
   "outputs": [
    {
     "data": {
      "text/plain": [
       "431"
      ]
     },
     "execution_count": 15,
     "metadata": {},
     "output_type": "execute_result"
    }
   ],
   "source": [
    "len(train_loader)"
   ]
  },
  {
   "cell_type": "code",
   "execution_count": null,
   "metadata": {},
   "outputs": [],
   "source": []
  }
 ],
 "metadata": {
  "kernelspec": {
   "display_name": "Python 3.7.6 64-bit ('simclr': conda)",
   "language": "python",
   "name": "python37664bitsimclrcondadff14b978b8c4443a32cfd8f00a518b7"
  },
  "language_info": {
   "codemirror_mode": {
    "name": "ipython",
    "version": 3
   },
   "file_extension": ".py",
   "mimetype": "text/x-python",
   "name": "python",
   "nbconvert_exporter": "python",
   "pygments_lexer": "ipython3",
   "version": "3.7.6"
  }
 },
 "nbformat": 4,
 "nbformat_minor": 4
}
