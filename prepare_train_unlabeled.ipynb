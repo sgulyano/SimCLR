{
 "cells": [
  {
   "cell_type": "code",
   "execution_count": 25,
   "metadata": {},
   "outputs": [],
   "source": [
    "import glob\n",
    "import os\n",
    "import numpy as np\n",
    "from shutil import copyfile\n",
    "import pandas as pd\n",
    "\n",
    "np.random.seed(42)"
   ]
  },
  {
   "cell_type": "code",
   "execution_count": 26,
   "metadata": {},
   "outputs": [],
   "source": [
    "directory = 'data/satellite/amazon/'\n",
    "tag = 'agri'\n",
    "# directory = 'data/satellite/oilpalm/'\n",
    "# tag = 'palm'\n",
    "output_dir = directory + 'eval10/'"
   ]
  },
  {
   "cell_type": "code",
   "execution_count": 27,
   "metadata": {},
   "outputs": [],
   "source": [
    "train_list = glob.glob(directory + 'train/**/*')\n",
    "unlabeled_list = glob.glob(directory + 'unlabeled/**/*')"
   ]
  },
  {
   "cell_type": "code",
   "execution_count": 28,
   "metadata": {},
   "outputs": [
    {
     "name": "stdout",
     "output_type": "stream",
     "text": [
      "1055\n",
      "19007\n"
     ]
    }
   ],
   "source": [
    "print(len(train_list))\n",
    "print(len(unlabeled_list))"
   ]
  },
  {
   "cell_type": "code",
   "execution_count": 29,
   "metadata": {},
   "outputs": [],
   "source": [
    "np.random.shuffle(unlabeled_list)"
   ]
  },
  {
   "cell_type": "code",
   "execution_count": 30,
   "metadata": {},
   "outputs": [],
   "source": [
    "n = len(unlabeled_list)\n",
    "n_spl = int(n*1.0)\n",
    "unlabeled_list = unlabeled_list[:n_spl]"
   ]
  },
  {
   "cell_type": "code",
   "execution_count": 31,
   "metadata": {},
   "outputs": [
    {
     "name": "stdout",
     "output_type": "stream",
     "text": [
      "1055\n",
      "19007\n"
     ]
    }
   ],
   "source": [
    "print(len(train_list))\n",
    "print(len(unlabeled_list))"
   ]
  },
  {
   "cell_type": "code",
   "execution_count": 32,
   "metadata": {},
   "outputs": [],
   "source": [
    "img_list = train_list + unlabeled_list"
   ]
  },
  {
   "cell_type": "code",
   "execution_count": 33,
   "metadata": {},
   "outputs": [
    {
     "name": "stdout",
     "output_type": "stream",
     "text": [
      "20062\n"
     ]
    }
   ],
   "source": [
    "print(len(img_list))"
   ]
  },
  {
   "cell_type": "code",
   "execution_count": 34,
   "metadata": {},
   "outputs": [
    {
     "data": {
      "text/plain": [
       "'data/satellite/amazon/train/noagri/train_33411.jpg'"
      ]
     },
     "execution_count": 34,
     "metadata": {},
     "output_type": "execute_result"
    }
   ],
   "source": [
    "img_list[0]"
   ]
  },
  {
   "cell_type": "code",
   "execution_count": 35,
   "metadata": {},
   "outputs": [],
   "source": [
    "if not os.path.exists(output_dir + 'no'+tag):\n",
    "    os.makedirs(output_dir + 'no'+tag)\n",
    "if not os.path.exists(output_dir + tag):\n",
    "    os.makedirs(output_dir + tag)"
   ]
  },
  {
   "cell_type": "code",
   "execution_count": 36,
   "metadata": {},
   "outputs": [
    {
     "name": "stdout",
     "output_type": "stream",
     "text": [
      "20062\n",
      "Done\n"
     ]
    }
   ],
   "source": [
    "count = 0\n",
    "for src in img_list:\n",
    "    tokens = src.split('/')\n",
    "    dst = output_dir + tokens[-2] + '/' + tokens[-1]\n",
    "    copyfile(src, dst)\n",
    "    count += 1\n",
    "print(count)\n",
    "print('Done')"
   ]
  }
 ],
 "metadata": {
  "kernelspec": {
   "display_name": "Python 3",
   "language": "python",
   "name": "python3"
  },
  "language_info": {
   "codemirror_mode": {
    "name": "ipython",
    "version": 3
   },
   "file_extension": ".py",
   "mimetype": "text/x-python",
   "name": "python",
   "nbconvert_exporter": "python",
   "pygments_lexer": "ipython3",
   "version": "3.7.5"
  }
 },
 "nbformat": 4,
 "nbformat_minor": 4
}
