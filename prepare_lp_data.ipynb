{
 "cells": [
  {
   "cell_type": "code",
   "execution_count": 1,
   "metadata": {},
   "outputs": [],
   "source": [
    "import glob\n",
    "import os\n",
    "from PIL import Image\n",
    "import numpy as np\n",
    "from shutil import copyfile\n",
    "\n",
    "np.random.seed(42)"
   ]
  },
  {
   "cell_type": "code",
   "execution_count": 2,
   "metadata": {},
   "outputs": [],
   "source": [
    "directory = 'data/licenseplate/'"
   ]
  },
  {
   "cell_type": "code",
   "execution_count": 3,
   "metadata": {},
   "outputs": [],
   "source": [
    "img_list = glob.glob(directory + '/all/**/*')\n",
    "img_type = [f.split('/')[-2] for f in img_list]"
   ]
  },
  {
   "cell_type": "code",
   "execution_count": 4,
   "metadata": {},
   "outputs": [],
   "source": [
    "np.random.shuffle(img_list)"
   ]
  },
  {
   "cell_type": "code",
   "execution_count": 5,
   "metadata": {},
   "outputs": [],
   "source": [
    "n = len(img_list)\n",
    "train_n = int(0.5 * n)"
   ]
  },
  {
   "cell_type": "code",
   "execution_count": 6,
   "metadata": {},
   "outputs": [],
   "source": [
    "train_img_list = img_list[:train_n]\n",
    "test_img_list = img_list[train_n:]"
   ]
  },
  {
   "cell_type": "code",
   "execution_count": 7,
   "metadata": {},
   "outputs": [],
   "source": [
    "folders = {'train':train_img_list, 'test':test_img_list}"
   ]
  },
  {
   "cell_type": "code",
   "execution_count": 8,
   "metadata": {},
   "outputs": [
    {
     "name": "stdout",
     "output_type": "stream",
     "text": [
      "train 152\n",
      "['lp' 'nolp'] [69 83]\n",
      "test 153\n",
      "['lp' 'nolp'] [66 87]\n"
     ]
    }
   ],
   "source": [
    "for k, v in folders.items():\n",
    "    print(k,len(v))\n",
    "    \n",
    "    img_type = [f.split('/')[-2] for f in v]\n",
    "    u, c = np.unique(img_type, return_counts=True)\n",
    "    for i in u:\n",
    "        fdir = os.path.join(directory, k, i)\n",
    "        if not os.path.exists(fdir):\n",
    "            os.makedirs(fdir)\n",
    "    print(u, c)\n",
    "    \n",
    "    for i in range(len(v)):\n",
    "        dst = os.path.join(directory, k, img_type[i], os.path.basename(v[i]))\n",
    "        copyfile(v[i], dst)"
   ]
  }
 ],
 "metadata": {
  "kernelspec": {
   "display_name": "Python 3",
   "language": "python",
   "name": "python3"
  },
  "language_info": {
   "codemirror_mode": {
    "name": "ipython",
    "version": 3
   },
   "file_extension": ".py",
   "mimetype": "text/x-python",
   "name": "python",
   "nbconvert_exporter": "python",
   "pygments_lexer": "ipython3",
   "version": "3.7.5"
  }
 },
 "nbformat": 4,
 "nbformat_minor": 4
}
