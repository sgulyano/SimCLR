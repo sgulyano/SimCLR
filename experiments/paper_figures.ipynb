{
 "cells": [
  {
   "cell_type": "code",
   "execution_count": 33,
   "metadata": {},
   "outputs": [],
   "source": [
    "import glob\n",
    "import pickle\n",
    "import numpy as np\n",
    "import matplotlib.pyplot as plt\n",
    "\n",
    "%matplotlib inline"
   ]
  },
  {
   "cell_type": "markdown",
   "metadata": {},
   "source": [
    "# Fig 1"
   ]
  },
  {
   "cell_type": "markdown",
   "metadata": {},
   "source": [
    "## Oil Palm"
   ]
  },
  {
   "cell_type": "code",
   "execution_count": 2,
   "metadata": {},
   "outputs": [
    {
     "data": {
      "text/plain": [
       "['./results/oilpalm_our_eval00.pkl',\n",
       " './results/oilpalm_simclr_eval00.pkl',\n",
       " './results/oilpalm_simclr_eval05.pkl',\n",
       " './results/oilpalm_simclr_eval05_old.pkl',\n",
       " './results/oilpalm_simclr_eval10.pkl',\n",
       " './results/oilpalm_simclr_eval10_old.pkl',\n",
       " './results/oilpalm_simclr_transferfromamazon_eval00.pkl',\n",
       " './results/oilpalm_transfersvm_eval00.pkl',\n",
       " './results/oilpalm_vgg16baseline_eval00.pkl',\n",
       " './results/oilpalm_vgg16baseline_eval00_old.pkl',\n",
       " './results/oilpalm_vgg16baseline_eval05.pkl',\n",
       " './results/oilpalm_vgg16baseline_eval10.pkl',\n",
       " './results/oilpalm_vgg16knn_eval00.pkl',\n",
       " './results/oilpalm_vgg16logis_eval00.pkl']"
      ]
     },
     "execution_count": 2,
     "metadata": {},
     "output_type": "execute_result"
    }
   ],
   "source": [
    "flist = sorted(glob.glob('./results/oilpalm**'))\n",
    "flist"
   ]
  },
  {
   "cell_type": "code",
   "execution_count": 3,
   "metadata": {},
   "outputs": [
    {
     "data": {
      "text/plain": [
       "['./results/oilpalm_vgg16baseline_eval00.pkl',\n",
       " './results/oilpalm_vgg16baseline_eval05.pkl',\n",
       " './results/oilpalm_vgg16baseline_eval10.pkl']"
      ]
     },
     "execution_count": 3,
     "metadata": {},
     "output_type": "execute_result"
    }
   ],
   "source": [
    "baseline_list = sorted(glob.glob('./results/oilpalm_vgg16baseline_eval??.pkl'))\n",
    "baseline_list"
   ]
  },
  {
   "cell_type": "code",
   "execution_count": 4,
   "metadata": {},
   "outputs": [],
   "source": [
    "def read_vgg_result(fn):\n",
    "    print(fn)\n",
    "    with open(fn, 'rb') as f:\n",
    "        ds = pickle.load(f)\n",
    "        x = ds[0]['x_train']\n",
    "        print(f'\\ttrain: {x}, test: {ds[0][\"x_test\"]}')\n",
    "        acc = [d['accuracy'] for d in ds[1:]]\n",
    "        y = np.mean(acc)\n",
    "        err = np.std(acc)\n",
    "        print(f'\\taccuracy {y:.3f} +/- {err:.3f}')\n",
    "        return x,y,err\n",
    "\n",
    "def read_simclr_result(fn):\n",
    "    print(fn)\n",
    "    with open(fn, 'rb') as f:\n",
    "        ds = pickle.load(f)\n",
    "        x = ds[0]['x_train'][0]\n",
    "        print(f'\\ttrain: {x}, test: {ds[0][\"x_test\"][0]}')\n",
    "        y = ds[3]['accuracy']\n",
    "        print(f'\\taccuracy {y:.3f}')\n",
    "        return x,y"
   ]
  },
  {
   "cell_type": "code",
   "execution_count": 5,
   "metadata": {},
   "outputs": [
    {
     "name": "stdout",
     "output_type": "stream",
     "text": [
      "./results/oilpalm_vgg16baseline_eval00.pkl\n",
      "\ttrain: 187, test: 193\n",
      "\taccuracy 0.652 +/- 0.086\n",
      "./results/oilpalm_vgg16baseline_eval05.pkl\n",
      "\ttrain: 937, test: 193\n",
      "\taccuracy 0.753 +/- 0.010\n",
      "./results/oilpalm_vgg16baseline_eval10.pkl\n",
      "\ttrain: 1688, test: 193\n",
      "\taccuracy 0.754 +/- 0.012\n"
     ]
    }
   ],
   "source": [
    "bl = []\n",
    "for fn in baseline_list:\n",
    "    x,y,err = read_vgg_result(fn)\n",
    "    bl.append((x,y,err))\n",
    "bl = np.array(bl)"
   ]
  },
  {
   "cell_type": "code",
   "execution_count": 6,
   "metadata": {},
   "outputs": [
    {
     "data": {
      "text/plain": [
       "['./results/oilpalm_simclr_eval00.pkl',\n",
       " './results/oilpalm_simclr_eval05.pkl',\n",
       " './results/oilpalm_simclr_eval10.pkl']"
      ]
     },
     "execution_count": 6,
     "metadata": {},
     "output_type": "execute_result"
    }
   ],
   "source": [
    "simclr_list = sorted(glob.glob('./results/oilpalm_simclr_eval??.pkl'))\n",
    "simclr_list"
   ]
  },
  {
   "cell_type": "code",
   "execution_count": 7,
   "metadata": {},
   "outputs": [
    {
     "name": "stdout",
     "output_type": "stream",
     "text": [
      "./results/oilpalm_simclr_eval00.pkl\n",
      "\ttrain: 187, test: 193\n",
      "\taccuracy 0.741\n",
      "./results/oilpalm_simclr_eval05.pkl\n",
      "\ttrain: 937, test: 193\n",
      "\taccuracy 0.788\n",
      "./results/oilpalm_simclr_eval10.pkl\n",
      "\ttrain: 1688, test: 193\n",
      "\taccuracy 0.772\n"
     ]
    }
   ],
   "source": [
    "sc = []\n",
    "for fn in simclr_list:\n",
    "    x,y = read_simclr_result(fn)\n",
    "    sc.append((x,y))\n",
    "sc = np.array(sc)"
   ]
  },
  {
   "cell_type": "code",
   "execution_count": 8,
   "metadata": {},
   "outputs": [
    {
     "data": {
      "text/plain": [
       "['./results/oilpalm_our_eval00.pkl']"
      ]
     },
     "execution_count": 8,
     "metadata": {},
     "output_type": "execute_result"
    }
   ],
   "source": [
    "our_list = sorted(glob.glob('./results/oilpalm_our_eval??.pkl'))\n",
    "our_list"
   ]
  },
  {
   "cell_type": "code",
   "execution_count": 9,
   "metadata": {},
   "outputs": [
    {
     "name": "stdout",
     "output_type": "stream",
     "text": [
      "./results/oilpalm_our_eval00.pkl\n",
      "\ttrain: 1661, test: 193\n",
      "\taccuracy 0.749 +/- 0.007\n",
      "187.0\n"
     ]
    }
   ],
   "source": [
    "x,y,err = read_vgg_result(our_list[0])\n",
    "x = bl[0][0]\n",
    "print(x)\n",
    "our = np.array([(x,y,err)])"
   ]
  },
  {
   "cell_type": "code",
   "execution_count": 10,
   "metadata": {},
   "outputs": [
    {
     "data": {
      "text/plain": [
       "array([[1.87000000e+02, 7.49222798e-01, 7.02832123e-03]])"
      ]
     },
     "execution_count": 10,
     "metadata": {},
     "output_type": "execute_result"
    }
   ],
   "source": [
    "our"
   ]
  },
  {
   "cell_type": "code",
   "execution_count": 11,
   "metadata": {},
   "outputs": [
    {
     "data": {
      "image/png": "[encoded data removed]",
      "text/plain": [
       "<Figure size 432x288 with 1 Axes>"
      ]
     },
     "metadata": {
      "needs_background": "light"
     },
     "output_type": "display_data"
    }
   ],
   "source": [
    "plt.rcParams['axes.linewidth'] = 3\n",
    "fig, ax = plt.subplots()\n",
    "ax.spines['right'].set_visible(False)\n",
    "ax.spines['top'].set_visible(False)\n",
    "\n",
    "plt.fill_between(bl[:,0], bl[:,1]*100-bl[:,2]*100, bl[:,1]*100+bl[:,2]*100, alpha=0.2)\n",
    "plt.plot(bl[:,0], bl[:,1]*100, 'o-', label='VGG16')\n",
    "plt.text(bl[0,0]+50, bl[0,1]*100-1, 'VGG16', fontsize=16, color='#1f77b4')\n",
    "\n",
    "plt.plot(sc[:,0], sc[:,1]*100, 'o-', label='SimCLR + SVM', color='#2ca02c')\n",
    "plt.text(sc[0,0]-25, sc[0,1]*100-2, 'SimCLR+SVM', fontsize=16, color='#2ca02c')\n",
    "\n",
    "plt.errorbar(our[:,0], our[:,1]*100, yerr=our[:,2]*100, fmt='*', capsize=12, color='#d62728')\n",
    "plt.plot(our[:,0], our[:,1]*100, '*-', markersize=11, label='Our method', color='#d62728')\n",
    "plt.text(our[0,0]-25, our[0,1]*100+2, 'Our method', fontsize=16, color='#d62728')\n",
    "\n",
    "plt.xlabel('Number of true labels', fontsize=16)\n",
    "plt.xticks(np.arange(200, 1800, 300), fontsize=14)\n",
    "plt.ylabel('Accuracy (%)', fontsize=16)\n",
    "plt.yticks(fontsize=14)\n",
    "plt.ylim([56, 81])\n",
    "plt.minorticks_on()\n",
    "plt.tick_params(which='minor', length=4)\n",
    "plt.tick_params(which='major', length=6)\n",
    "# plt.rc('legend',fontsize=14)\n",
    "# plt.legend(loc='lower right')\n",
    "plt.grid(True)\n",
    "plt.tight_layout()\n",
    "plt.savefig('p1.png', dpi=300)"
   ]
  },
  {
   "cell_type": "markdown",
   "metadata": {},
   "source": [
    "## Amazon"
   ]
  },
  {
   "cell_type": "code",
   "execution_count": 12,
   "metadata": {},
   "outputs": [
    {
     "data": {
      "text/plain": [
       "['./results/amazon_our_eval00.pkl',\n",
       " './results/amazon_simclr_eval00.pkl',\n",
       " './results/amazon_simclr_eval01.pkl',\n",
       " './results/amazon_simclr_eval01_old.pkl',\n",
       " './results/amazon_simclr_eval05.pkl',\n",
       " './results/amazon_simclr_eval05_old.pkl',\n",
       " './results/amazon_simclr_eval10.pkl',\n",
       " './results/amazon_simclr_eval10_old.pkl',\n",
       " './results/amazon_vgg16baseline_eval00.pkl',\n",
       " './results/amazon_vgg16baseline_eval01.pkl',\n",
       " './results/amazon_vgg16baseline_eval05.pkl',\n",
       " './results/amazon_vgg16baseline_eval10.pkl',\n",
       " './results/amazon_vgg16knn_eval00.pkl',\n",
       " './results/amazon_vgg16logis_eval00.pkl',\n",
       " './results/amazon_vgg16svm_eval00.pkl']"
      ]
     },
     "execution_count": 12,
     "metadata": {},
     "output_type": "execute_result"
    }
   ],
   "source": [
    "flist = sorted(glob.glob('./results/amazon**.pkl'))\n",
    "flist"
   ]
  },
  {
   "cell_type": "code",
   "execution_count": 13,
   "metadata": {},
   "outputs": [
    {
     "data": {
      "text/plain": [
       "['./results/amazon_vgg16baseline_eval00.pkl',\n",
       " './results/amazon_vgg16baseline_eval01.pkl',\n",
       " './results/amazon_vgg16baseline_eval05.pkl',\n",
       " './results/amazon_vgg16baseline_eval10.pkl']"
      ]
     },
     "execution_count": 13,
     "metadata": {},
     "output_type": "execute_result"
    }
   ],
   "source": [
    "baseline_list = sorted(glob.glob('./results/amazon_vgg16baseline_eval??.pkl'))\n",
    "baseline_list"
   ]
  },
  {
   "cell_type": "code",
   "execution_count": 14,
   "metadata": {},
   "outputs": [
    {
     "name": "stdout",
     "output_type": "stream",
     "text": [
      "./results/amazon_vgg16baseline_eval00.pkl\n",
      "\ttrain: 1055, test: 1056\n",
      "\taccuracy 0.846 +/- 0.006\n",
      "./results/amazon_vgg16baseline_eval01.pkl\n",
      "\ttrain: 2955, test: 1056\n",
      "\taccuracy 0.879 +/- 0.004\n",
      "./results/amazon_vgg16baseline_eval05.pkl\n",
      "\ttrain: 10558, test: 1056\n",
      "\taccuracy 0.891 +/- 0.004\n",
      "./results/amazon_vgg16baseline_eval10.pkl\n",
      "\ttrain: 20062, test: 1056\n",
      "\taccuracy 0.899 +/- 0.006\n"
     ]
    }
   ],
   "source": [
    "bl = []\n",
    "for fn in baseline_list:\n",
    "    print(fn)\n",
    "    with open(fn, 'rb') as f:\n",
    "        baseline_dict = pickle.load(f)\n",
    "        x = baseline_dict[0]['x_train']\n",
    "        print(f'\\ttrain: {x}, test: {baseline_dict[0][\"x_test\"]}')\n",
    "        acc = [d['accuracy'] for d in baseline_dict[1:]]\n",
    "        y = np.mean(acc)\n",
    "        err = np.std(acc)\n",
    "        print(f'\\taccuracy {y:.3f} +/- {err:.3f}')\n",
    "        bl.append((x,y,err))\n",
    "bl = np.array(bl)"
   ]
  },
  {
   "cell_type": "code",
   "execution_count": 15,
   "metadata": {},
   "outputs": [
    {
     "data": {
      "text/plain": [
       "['./results/amazon_simclr_eval00.pkl',\n",
       " './results/amazon_simclr_eval01.pkl',\n",
       " './results/amazon_simclr_eval05.pkl',\n",
       " './results/amazon_simclr_eval10.pkl']"
      ]
     },
     "execution_count": 15,
     "metadata": {},
     "output_type": "execute_result"
    }
   ],
   "source": [
    "simclr_list = sorted(glob.glob('./results/amazon_simclr_eval??.pkl'))\n",
    "simclr_list"
   ]
  },
  {
   "cell_type": "code",
   "execution_count": 16,
   "metadata": {},
   "outputs": [
    {
     "name": "stdout",
     "output_type": "stream",
     "text": [
      "./results/amazon_simclr_eval00.pkl\n",
      "\ttrain: 1055, test: 1056\n",
      "\taccuracy 0.844\n",
      "./results/amazon_simclr_eval01.pkl\n",
      "\ttrain: 2955, test: 1056\n",
      "\taccuracy 0.858\n",
      "./results/amazon_simclr_eval05.pkl\n",
      "\ttrain: 10558, test: 1056\n",
      "\taccuracy 0.859\n",
      "./results/amazon_simclr_eval10.pkl\n",
      "\ttrain: 20062, test: 1056\n",
      "\taccuracy 0.865\n"
     ]
    }
   ],
   "source": [
    "sc = []\n",
    "for fn in simclr_list:\n",
    "    print(fn)\n",
    "    with open(fn, 'rb') as f:\n",
    "        simclr_dict = pickle.load(f)\n",
    "        x = simclr_dict[0]['x_train'][0]\n",
    "        print(f'\\ttrain: {x}, test: {simclr_dict[0][\"x_test\"][0]}')\n",
    "        y = simclr_dict[3]['accuracy']\n",
    "        print(f'\\taccuracy {y:.3f}')\n",
    "        sc.append((x,y))\n",
    "sc = np.array(sc)"
   ]
  },
  {
   "cell_type": "code",
   "execution_count": 17,
   "metadata": {},
   "outputs": [
    {
     "data": {
      "text/plain": [
       "['./results/amazon_our_eval00.pkl']"
      ]
     },
     "execution_count": 17,
     "metadata": {},
     "output_type": "execute_result"
    }
   ],
   "source": [
    "our_list = sorted(glob.glob('./results/amazon_our_eval??.pkl'))\n",
    "our_list"
   ]
  },
  {
   "cell_type": "code",
   "execution_count": 18,
   "metadata": {},
   "outputs": [
    {
     "name": "stdout",
     "output_type": "stream",
     "text": [
      "./results/amazon_our_eval00.pkl\n",
      "\ttrain: 1055.0, test: 1056\n",
      "\taccuracy 0.859 +/- 0.001\n"
     ]
    }
   ],
   "source": [
    "our = []\n",
    "print(our_list[0])\n",
    "with open(our_list[0], 'rb') as f:\n",
    "    our_dict = pickle.load(f)\n",
    "    x = bl[0][0]\n",
    "    print(f'\\ttrain: {x}, test: {our_dict[0][\"x_test\"]}')\n",
    "    acc = [d['accuracy'] for d in our_dict[1:]]\n",
    "    y = np.mean(acc)\n",
    "    err = np.std(acc)\n",
    "    print(f'\\taccuracy {y:.3f} +/- {err:.3f}')\n",
    "    our.append((x,y,err))\n",
    "our = np.array(our)"
   ]
  },
  {
   "cell_type": "code",
   "execution_count": 19,
   "metadata": {},
   "outputs": [
    {
     "data": {
      "text/plain": [
       "array([[1.05500000e+03, 8.58901515e-01, 1.19783245e-03]])"
      ]
     },
     "execution_count": 19,
     "metadata": {},
     "output_type": "execute_result"
    }
   ],
   "source": [
    "our"
   ]
  },
  {
   "cell_type": "code",
   "execution_count": 20,
   "metadata": {},
   "outputs": [
    {
     "data": {
      "image/png": "[encoded data removed]",
      "text/plain": [
       "<Figure size 432x288 with 1 Axes>"
      ]
     },
     "metadata": {
      "needs_background": "light"
     },
     "output_type": "display_data"
    }
   ],
   "source": [
    "fig, ax = plt.subplots()\n",
    "plt.rcParams['axes.linewidth'] = 3\n",
    "ax.spines['right'].set_visible(False)\n",
    "ax.spines['top'].set_visible(False)\n",
    "\n",
    "plt.fill_between(bl[:,0], bl[:,1]*100-bl[:,2]*100, bl[:,1]*100+bl[:,2]*100, alpha=0.2)\n",
    "plt.plot(bl[:,0], bl[:,1]*100, 'o-', label='VGG16')\n",
    "plt.text(bl[1,0]+50, bl[1,1]*100-1, 'VGG16', fontsize=16, color='#1f77b4')\n",
    "\n",
    "plt.plot(sc[:,0], sc[:,1]*100, 'o-', label='SimCLR + SVM', color='#2ca02c')\n",
    "plt.text(sc[1,0]+50, sc[1,1]*100-1, 'SimCLR+SVM', fontsize=16, color='#2ca02c')\n",
    "\n",
    "plt.plot([our[:,0], our[:,0]+100], [our[:,1]*100, our[:,1]*100+0.8], color='#7f7f7f')\n",
    "plt.errorbar(our[:,0], our[:,1]*100, yerr=our[:,2]*100, fmt='*', capsize=12, color='#d62728')\n",
    "plt.plot(our[:,0], our[:,1]*100, '*-', markersize=12, label='Our method', color='#d62728')\n",
    "plt.text(our[0,0]-25, our[0,1]*100+1, 'Our\\nmethod', fontsize=16, color='#d62728')\n",
    "\n",
    "plt.xlabel('Number of true labels in log scale', fontsize=16)\n",
    "# plt.xticks(np.arange(1000, 22000, 5000), fontsize=14)\n",
    "plt.xticks(fontsize=14)\n",
    "plt.xscale('log')\n",
    "plt.ylabel('Accuracy (%)', fontsize=16)\n",
    "plt.yticks(np.arange(80, 92, 5),fontsize=14)\n",
    "plt.ylim([83, 91])\n",
    "plt.minorticks_on()\n",
    "plt.tick_params(which='minor', length=4)\n",
    "plt.tick_params(which='major', length=6)\n",
    "# plt.rc('legend',fontsize=14)\n",
    "# plt.legend(loc='lower right')\n",
    "plt.grid(True)\n",
    "plt.tight_layout()\n",
    "plt.savefig('p2.png', dpi=300)"
   ]
  },
  {
   "cell_type": "markdown",
   "metadata": {},
   "source": [
    "# Table 1"
   ]
  },
  {
   "cell_type": "code",
   "execution_count": 21,
   "metadata": {},
   "outputs": [],
   "source": [
    "def get_report_cnn(fn, tag):\n",
    "    print(fn)\n",
    "    with open(fn, 'rb') as f:\n",
    "        ds = pickle.load(f)\n",
    "        x = ds[0]['x_train']\n",
    "        acc = np.array([d['accuracy'] for d in ds[1:]])*100\n",
    "        p = [d[tag]['precision'] for d in ds[1:]]\n",
    "        r = [d[tag]['recall'] for d in ds[1:]]\n",
    "        f1 = [d[tag]['f1-score'] for d in ds[1:]]\n",
    "        return x, acc, p, r, f1\n",
    "\n",
    "def get_report_simclr(fn, tag, ind=3):\n",
    "    m = {2:'logistic regression', 3:'svm', 4:'knn'}\n",
    "    print(fn, m[ind])\n",
    "    with open(fn, 'rb') as f:\n",
    "        ds = pickle.load(f)\n",
    "        x = ds[0]['x_train'][0]\n",
    "        acc = ds[ind]['accuracy']*100\n",
    "        p = ds[ind][tag]['precision']\n",
    "        r = ds[ind][tag]['recall']\n",
    "        f1 = ds[ind][tag]['f1-score']\n",
    "        return x, acc, p, r, f1\n"
   ]
  },
  {
   "cell_type": "code",
   "execution_count": 22,
   "metadata": {},
   "outputs": [
    {
     "name": "stdout",
     "output_type": "stream",
     "text": [
      "./results/oilpalm_vgg16baseline_eval00.pkl\n",
      "187\n",
      "\taccuracy 65.2 +/- 8.6\n",
      "\tprecision 0.708 +/- 0.132\n",
      "\trecall 0.647 +/- 0.203\n",
      "\tf1-score 0.636 +/- 0.049\n",
      "./results/oilpalm_simclr_eval00.pkl svm\n",
      "\taccuracy 74.1\n",
      "\tprecision 0.772\n",
      "\trecall 0.656\n",
      "\tf1-score 0.709\n",
      "./results/oilpalm_our_eval00.pkl\n",
      "\taccuracy 74.9 +/- 0.7\n",
      "\tprecision 0.798 +/- 0.012\n",
      "\trecall 0.643 +/- 0.011\n",
      "\tf1-score 0.712 +/- 0.008\n"
     ]
    }
   ],
   "source": [
    "baseline_list = sorted(glob.glob('./results/oilpalm_vgg16baseline_eval??.pkl'))\n",
    "x, acc, p, r, f1 = get_report_cnn(baseline_list[0], 'palm')\n",
    "print(x)\n",
    "print(f'\\taccuracy {np.mean(acc):.1f} +/- {np.std(acc):.1f}')\n",
    "print(f'\\tprecision {np.mean(p):.3f} +/- {np.std(p):.3f}')\n",
    "print(f'\\trecall {np.mean(r):.3f} +/- {np.std(r):.3f}')\n",
    "print(f'\\tf1-score {np.mean(f1):.3f} +/- {np.std(f1):.3f}')\n",
    "\n",
    "simclr_list = sorted(glob.glob('./results/oilpalm_simclr_eval??.pkl'))\n",
    "x, acc, p, r, f1 = get_report_simclr(simclr_list[0], 'palm')\n",
    "print(f'\\taccuracy {np.mean(acc):.1f}')\n",
    "print(f'\\tprecision {np.mean(p):.3f}')\n",
    "print(f'\\trecall {np.mean(r):.3f}')\n",
    "print(f'\\tf1-score {np.mean(f1):.3f}')\n",
    "\n",
    "\n",
    "our_list = sorted(glob.glob('./results/oilpalm_our_eval??.pkl'))\n",
    "x, acc, p, r, f1 = get_report_cnn(our_list[0], 'palm')\n",
    "print(f'\\taccuracy {np.mean(acc):.1f} +/- {np.std(acc):.1f}')\n",
    "print(f'\\tprecision {np.mean(p):.3f} +/- {np.std(p):.3f}')\n",
    "print(f'\\trecall {np.mean(r):.3f} +/- {np.std(r):.3f}')\n",
    "print(f'\\tf1-score {np.mean(f1):.3f} +/- {np.std(f1):.3f}')"
   ]
  },
  {
   "cell_type": "code",
   "execution_count": 23,
   "metadata": {},
   "outputs": [
    {
     "name": "stdout",
     "output_type": "stream",
     "text": [
      "./results/amazon_vgg16baseline_eval00.pkl\n",
      "1055\n",
      "\taccuracy 84.6 +/- 0.6\n",
      "\tprecision 0.851 +/- 0.009\n",
      "\trecall 0.862 +/- 0.006\n",
      "\tf1-score 0.856 +/- 0.005\n",
      "./results/amazon_simclr_eval00.pkl svm\n",
      "\taccuracy 84.4\n",
      "\tprecision 0.819\n",
      "\trecall 0.854\n",
      "\tf1-score 0.836\n",
      "./results/amazon_our_eval00.pkl\n",
      "\taccuracy 85.9 +/- 0.1\n",
      "\tprecision 0.897 +/- 0.004\n",
      "\trecall 0.831 +/- 0.004\n",
      "\tf1-score 0.863 +/- 0.001\n"
     ]
    }
   ],
   "source": [
    "baseline_list = sorted(glob.glob('./results/amazon_vgg16baseline_eval??.pkl'))\n",
    "x, acc, p, r, f1 = get_report_cnn(baseline_list[0], 'agri')\n",
    "print(x)\n",
    "print(f'\\taccuracy {np.mean(acc):.1f} +/- {np.std(acc):.1f}')\n",
    "print(f'\\tprecision {np.mean(p):.3f} +/- {np.std(p):.3f}')\n",
    "print(f'\\trecall {np.mean(r):.3f} +/- {np.std(r):.3f}')\n",
    "print(f'\\tf1-score {np.mean(f1):.3f} +/- {np.std(f1):.3f}')\n",
    "\n",
    "simclr_list = sorted(glob.glob('./results/amazon_simclr_eval??.pkl'))\n",
    "x, acc, p, r, f1 = get_report_simclr(simclr_list[0], 'agri')\n",
    "print(f'\\taccuracy {np.mean(acc):.1f}')\n",
    "print(f'\\tprecision {np.mean(p):.3f}')\n",
    "print(f'\\trecall {np.mean(r):.3f}')\n",
    "print(f'\\tf1-score {np.mean(f1):.3f}')\n",
    "\n",
    "\n",
    "our_list = sorted(glob.glob('./results/amazon_our_eval??.pkl'))\n",
    "x, acc, p, r, f1 = get_report_cnn(our_list[0], 'agri')\n",
    "print(f'\\taccuracy {np.mean(acc):.1f} +/- {np.std(acc):.1f}')\n",
    "print(f'\\tprecision {np.mean(p):.3f} +/- {np.std(p):.3f}')\n",
    "print(f'\\trecall {np.mean(r):.3f} +/- {np.std(r):.3f}')\n",
    "print(f'\\tf1-score {np.mean(f1):.3f} +/- {np.std(f1):.3f}')"
   ]
  },
  {
   "cell_type": "markdown",
   "metadata": {},
   "source": [
    "# Part 2"
   ]
  },
  {
   "cell_type": "code",
   "execution_count": 24,
   "metadata": {},
   "outputs": [
    {
     "data": {
      "text/plain": [
       "['./results/oilpalm_our_eval00.pkl',\n",
       " './results/oilpalm_simclr_eval00.pkl',\n",
       " './results/oilpalm_simclr_eval05.pkl',\n",
       " './results/oilpalm_simclr_eval05_old.pkl',\n",
       " './results/oilpalm_simclr_eval10.pkl',\n",
       " './results/oilpalm_simclr_eval10_old.pkl',\n",
       " './results/oilpalm_simclr_transferfromamazon_eval00.pkl',\n",
       " './results/oilpalm_transfersvm_eval00.pkl',\n",
       " './results/oilpalm_vgg16baseline_eval00.pkl',\n",
       " './results/oilpalm_vgg16baseline_eval00_old.pkl',\n",
       " './results/oilpalm_vgg16baseline_eval05.pkl',\n",
       " './results/oilpalm_vgg16baseline_eval10.pkl',\n",
       " './results/oilpalm_vgg16knn_eval00.pkl',\n",
       " './results/oilpalm_vgg16logis_eval00.pkl']"
      ]
     },
     "execution_count": 24,
     "metadata": {},
     "output_type": "execute_result"
    }
   ],
   "source": [
    "flist = sorted(glob.glob('./results/oilpalm**'))\n",
    "flist"
   ]
  },
  {
   "cell_type": "code",
   "execution_count": 25,
   "metadata": {},
   "outputs": [
    {
     "name": "stdout",
     "output_type": "stream",
     "text": [
      "./results/oilpalm_simclr_eval00.pkl logistic regression\n",
      "187\n",
      "\taccuracy 57.5\n",
      "\tprecision 0.565\n",
      "\trecall 0.516\n",
      "\tf1-score 0.539\n",
      "./results/oilpalm_simclr_eval00.pkl svm\n",
      "187\n",
      "\taccuracy 74.1\n",
      "\tprecision 0.772\n",
      "\trecall 0.656\n",
      "\tf1-score 0.709\n",
      "./results/oilpalm_simclr_eval00.pkl knn\n",
      "187\n",
      "\taccuracy 70.5\n",
      "\tprecision 0.737\n",
      "\trecall 0.602\n",
      "\tf1-score 0.663\n"
     ]
    }
   ],
   "source": [
    "simclr_list = sorted(glob.glob('./results/oilpalm_simclr_eval??.pkl'))\n",
    "for ind in range(2,5):\n",
    "    x, acc, p, r, f1 = get_report_simclr(simclr_list[0], 'palm', ind)\n",
    "    print(x)\n",
    "    print(f'\\taccuracy {np.mean(acc):.1f}')\n",
    "    print(f'\\tprecision {np.mean(p):.3f}')\n",
    "    print(f'\\trecall {np.mean(r):.3f}')\n",
    "    print(f'\\tf1-score {np.mean(f1):.3f}')"
   ]
  },
  {
   "cell_type": "code",
   "execution_count": 26,
   "metadata": {},
   "outputs": [
    {
     "name": "stdout",
     "output_type": "stream",
     "text": [
      "./results/oilpalm_vgg16logis_eval00.pkl\n",
      "1659\n",
      "\taccuracy 71.2 +/- 2.0\n",
      "\tprecision 0.771 +/- 0.048\n",
      "\trecall 0.576 +/- 0.020\n",
      "\tf1-score 0.659 +/- 0.017\n",
      "./results/oilpalm_our_eval00.pkl\n",
      "1661\n",
      "\taccuracy 74.9 +/- 0.7\n",
      "\tprecision 0.798 +/- 0.012\n",
      "\trecall 0.643 +/- 0.011\n",
      "\tf1-score 0.712 +/- 0.008\n",
      "./results/oilpalm_vgg16knn_eval00.pkl\n",
      "1663\n",
      "\taccuracy 76.2 +/- 0.9\n",
      "\tprecision 0.881 +/- 0.020\n",
      "\trecall 0.585 +/- 0.023\n",
      "\tf1-score 0.703 +/- 0.015\n"
     ]
    }
   ],
   "source": [
    "simclr_list_predict = ['./results/oilpalm_vgg16logis_eval00.pkl',\n",
    "                       './results/oilpalm_our_eval00.pkl',\n",
    "                       './results/oilpalm_vgg16knn_eval00.pkl']\n",
    "for i, f in enumerate(simclr_list_predict):\n",
    "    x, acc, p, r, f1 = get_report_cnn(f, 'palm')\n",
    "    print(x)\n",
    "    print(f'\\taccuracy {np.mean(acc):.1f} +/- {np.std(acc):.1f}')\n",
    "    print(f'\\tprecision {np.mean(p):.3f} +/- {np.std(p):.3f}')\n",
    "    print(f'\\trecall {np.mean(r):.3f} +/- {np.std(r):.3f}')\n",
    "    print(f'\\tf1-score {np.mean(f1):.3f} +/- {np.std(f1):.3f}')"
   ]
  },
  {
   "cell_type": "code",
   "execution_count": 27,
   "metadata": {},
   "outputs": [
    {
     "name": "stdout",
     "output_type": "stream",
     "text": [
      "./results/amazon_simclr_eval00.pkl logistic regression\n",
      "1055\n",
      "\taccuracy 79.2\n",
      "\tprecision 0.779\n",
      "\trecall 0.773\n",
      "\tf1-score 0.776\n",
      "./results/amazon_simclr_eval00.pkl svm\n",
      "1055\n",
      "\taccuracy 84.4\n",
      "\tprecision 0.819\n",
      "\trecall 0.854\n",
      "\tf1-score 0.836\n",
      "./results/amazon_simclr_eval00.pkl knn\n",
      "1055\n",
      "\taccuracy 83.0\n",
      "\tprecision 0.805\n",
      "\trecall 0.840\n",
      "\tf1-score 0.822\n"
     ]
    }
   ],
   "source": [
    "simclr_list = sorted(glob.glob('./results/amazon_simclr_eval??.pkl'))\n",
    "for ind in range(2,5):\n",
    "    x, acc, p, r, f1 = get_report_simclr(simclr_list[0], 'agri', ind)\n",
    "    print(x)\n",
    "    print(f'\\taccuracy {np.mean(acc):.1f}')\n",
    "    print(f'\\tprecision {np.mean(p):.3f}')\n",
    "    print(f'\\trecall {np.mean(r):.3f}')\n",
    "    print(f'\\tf1-score {np.mean(f1):.3f}')"
   ]
  },
  {
   "cell_type": "code",
   "execution_count": 28,
   "metadata": {},
   "outputs": [
    {
     "name": "stdout",
     "output_type": "stream",
     "text": [
      "./results/amazon_vgg16logis_eval00.pkl\n",
      "2955\n",
      "\taccuracy 83.7 +/- 0.5\n",
      "\tprecision 0.836 +/- 0.006\n",
      "\trecall 0.863 +/- 0.011\n",
      "\tf1-score 0.849 +/- 0.005\n",
      "./results/amazon_vgg16svm_eval00.pkl\n",
      "2955\n",
      "\taccuracy 85.2 +/- 0.2\n",
      "\tprecision 0.869 +/- 0.002\n",
      "\trecall 0.849 +/- 0.002\n",
      "\tf1-score 0.859 +/- 0.002\n",
      "./results/amazon_vgg16knn_eval00.pkl\n",
      "2955\n",
      "\taccuracy 84.9 +/- 0.5\n",
      "\tprecision 0.865 +/- 0.006\n",
      "\trecall 0.849 +/- 0.005\n",
      "\tf1-score 0.857 +/- 0.004\n"
     ]
    }
   ],
   "source": [
    "simclr_list_predict = ['./results/amazon_vgg16logis_eval00.pkl',\n",
    "                       './results/amazon_vgg16svm_eval00.pkl',\n",
    "                       './results/amazon_vgg16knn_eval00.pkl']\n",
    "for i, f in enumerate(simclr_list_predict):\n",
    "    x, acc, p, r, f1 = get_report_cnn(f, 'agri')\n",
    "    print(x)\n",
    "    print(f'\\taccuracy {np.mean(acc):.1f} +/- {np.std(acc):.1f}')\n",
    "    print(f'\\tprecision {np.mean(p):.3f} +/- {np.std(p):.3f}')\n",
    "    print(f'\\trecall {np.mean(r):.3f} +/- {np.std(r):.3f}')\n",
    "    print(f'\\tf1-score {np.mean(f1):.3f} +/- {np.std(f1):.3f}')"
   ]
  },
  {
   "cell_type": "markdown",
   "metadata": {},
   "source": [
    "# Part 4"
   ]
  },
  {
   "cell_type": "code",
   "execution_count": 29,
   "metadata": {},
   "outputs": [
    {
     "data": {
      "text/plain": [
       "['./results/oilpalm_our_eval00.pkl',\n",
       " './results/oilpalm_simclr_eval00.pkl',\n",
       " './results/oilpalm_simclr_eval05.pkl',\n",
       " './results/oilpalm_simclr_eval05_old.pkl',\n",
       " './results/oilpalm_simclr_eval10.pkl',\n",
       " './results/oilpalm_simclr_eval10_old.pkl',\n",
       " './results/oilpalm_simclr_transferfromamazon_eval00.pkl',\n",
       " './results/oilpalm_transfersvm_eval00.pkl',\n",
       " './results/oilpalm_vgg16baseline_eval00.pkl',\n",
       " './results/oilpalm_vgg16baseline_eval00_old.pkl',\n",
       " './results/oilpalm_vgg16baseline_eval05.pkl',\n",
       " './results/oilpalm_vgg16baseline_eval10.pkl',\n",
       " './results/oilpalm_vgg16knn_eval00.pkl',\n",
       " './results/oilpalm_vgg16logis_eval00.pkl']"
      ]
     },
     "execution_count": 29,
     "metadata": {},
     "output_type": "execute_result"
    }
   ],
   "source": [
    "flist = sorted(glob.glob('./results/oilpalm**'))\n",
    "flist"
   ]
  },
  {
   "cell_type": "code",
   "execution_count": 30,
   "metadata": {},
   "outputs": [
    {
     "name": "stdout",
     "output_type": "stream",
     "text": [
      "./results/oilpalm_simclr_eval00.pkl svm\n",
      "187\n",
      "\taccuracy 74.1\n",
      "\tprecision 0.772\n",
      "\trecall 0.656\n",
      "\tf1-score 0.709\n"
     ]
    }
   ],
   "source": [
    "simclr_list = sorted(glob.glob('./results/oilpalm_simclr_eval00.pkl'))\n",
    "x, acc, p, r, f1 = get_report_simclr(simclr_list[0], 'palm')\n",
    "print(x)\n",
    "print(f'\\taccuracy {np.mean(acc):.1f}')\n",
    "print(f'\\tprecision {np.mean(p):.3f}')\n",
    "print(f'\\trecall {np.mean(r):.3f}')\n",
    "print(f'\\tf1-score {np.mean(f1):.3f}')"
   ]
  },
  {
   "cell_type": "code",
   "execution_count": 31,
   "metadata": {},
   "outputs": [
    {
     "name": "stdout",
     "output_type": "stream",
     "text": [
      "./results/oilpalm_simclr_transferfromamazon_eval00.pkl svm\n",
      "187\n",
      "\taccuracy 72.5\n",
      "\tprecision 0.692\n",
      "\trecall 0.774\n",
      "\tf1-score 0.731\n"
     ]
    }
   ],
   "source": [
    "simclr_list = sorted(glob.glob('./results/oilpalm_simclr_transferfromamazon_eval00.pkl'))\n",
    "x, acc, p, r, f1 = get_report_simclr(simclr_list[0], 'palm')\n",
    "print(x)\n",
    "print(f'\\taccuracy {np.mean(acc):.1f}')\n",
    "print(f'\\tprecision {np.mean(p):.3f}')\n",
    "print(f'\\trecall {np.mean(r):.3f}')\n",
    "print(f'\\tf1-score {np.mean(f1):.3f}')"
   ]
  },
  {
   "cell_type": "code",
   "execution_count": 32,
   "metadata": {},
   "outputs": [
    {
     "name": "stdout",
     "output_type": "stream",
     "text": [
      "./results/oilpalm_transfersvm_eval00.pkl\n",
      "1662\n",
      "\taccuracy 73.2 +/- 0.7\n",
      "\tprecision 0.716 +/- 0.009\n",
      "\trecall 0.733 +/- 0.004\n",
      "\tf1-score 0.725 +/- 0.006\n"
     ]
    }
   ],
   "source": [
    "simclr_list_predict = ['./results/oilpalm_transfersvm_eval00.pkl']\n",
    "for i, f in enumerate(simclr_list_predict):\n",
    "    x, acc, p, r, f1 = get_report_cnn(f, 'palm')\n",
    "    print(x)\n",
    "    print(f'\\taccuracy {np.mean(acc):.1f} +/- {np.std(acc):.1f}')\n",
    "    print(f'\\tprecision {np.mean(p):.3f} +/- {np.std(p):.3f}')\n",
    "    print(f'\\trecall {np.mean(r):.3f} +/- {np.std(r):.3f}')\n",
    "    print(f'\\tf1-score {np.mean(f1):.3f} +/- {np.std(f1):.3f}')"
   ]
  },
  {
   "cell_type": "markdown",
   "metadata": {},
   "source": [
    "# Part 3 tSNE"
   ]
  },
  {
   "cell_type": "code",
   "execution_count": null,
   "metadata": {},
   "outputs": [],
   "source": []
  }
 ],
 "metadata": {
  "kernelspec": {
   "display_name": "Python 3.7.6 64-bit ('simclr': conda)",
   "language": "python",
   "name": "python37664bitsimclrcondadff14b978b8c4443a32cfd8f00a518b7"
  },
  "language_info": {
   "codemirror_mode": {
    "name": "ipython",
    "version": 3
   },
   "file_extension": ".py",
   "mimetype": "text/x-python",
   "name": "python",
   "nbconvert_exporter": "python",
   "pygments_lexer": "ipython3",
   "version": "3.7.6"
  }
 },
 "nbformat": 4,
 "nbformat_minor": 4
}
