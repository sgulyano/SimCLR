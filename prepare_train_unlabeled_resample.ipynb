{
 "cells": [
  {
   "cell_type": "code",
   "execution_count": 1,
   "metadata": {},
   "outputs": [],
   "source": [
    "import glob\n",
    "import os\n",
    "import numpy as np\n",
    "from shutil import copyfile\n",
    "import pandas as pd\n",
    "\n",
    "np.random.seed(42)"
   ]
  },
  {
   "cell_type": "code",
   "execution_count": 2,
   "metadata": {},
   "outputs": [],
   "source": [
    "directory = 'data/satellite/amazon/'\n",
    "output_dir1 = directory + 'train_new/'\n",
    "output_dir2 = directory + 'unlabeled_new/'"
   ]
  },
  {
   "cell_type": "code",
   "execution_count": 3,
   "metadata": {},
   "outputs": [],
   "source": [
    "train_list = glob.glob(directory + 'train/**/*')\n",
    "unlabeled_list = glob.glob(directory + 'unlabeled/**/*')"
   ]
  },
  {
   "cell_type": "code",
   "execution_count": 4,
   "metadata": {},
   "outputs": [
    {
     "name": "stdout",
     "output_type": "stream",
     "text": [
      "2111\n",
      "16895\n"
     ]
    }
   ],
   "source": [
    "print(len(train_list))\n",
    "print(len(unlabeled_list))"
   ]
  },
  {
   "cell_type": "code",
   "execution_count": 5,
   "metadata": {},
   "outputs": [],
   "source": [
    "np.random.shuffle(unlabeled_list)"
   ]
  },
  {
   "cell_type": "code",
   "execution_count": 6,
   "metadata": {},
   "outputs": [],
   "source": [
    "n = len(unlabeled_list)\n",
    "n_spl = int(n*1.0)\n",
    "unlabeled_list = unlabeled_list[:n_spl]"
   ]
  },
  {
   "cell_type": "code",
   "execution_count": 7,
   "metadata": {},
   "outputs": [
    {
     "name": "stdout",
     "output_type": "stream",
     "text": [
      "2111\n",
      "16895\n"
     ]
    }
   ],
   "source": [
    "print(len(train_list))\n",
    "print(len(unlabeled_list))"
   ]
  },
  {
   "cell_type": "code",
   "execution_count": 8,
   "metadata": {},
   "outputs": [],
   "source": [
    "img_list = train_list + unlabeled_list"
   ]
  },
  {
   "cell_type": "code",
   "execution_count": 9,
   "metadata": {},
   "outputs": [],
   "source": [
    "np.random.shuffle(img_list)"
   ]
  },
  {
   "cell_type": "code",
   "execution_count": 10,
   "metadata": {},
   "outputs": [
    {
     "name": "stdout",
     "output_type": "stream",
     "text": [
      "19006\n"
     ]
    }
   ],
   "source": [
    "print(len(img_list))"
   ]
  },
  {
   "cell_type": "code",
   "execution_count": 11,
   "metadata": {},
   "outputs": [],
   "source": [
    "n = len(img_list)\n",
    "n_spl = int(n*0.05)\n",
    "new_train = img_list[:n_spl]\n",
    "new_unlabeled = img_list[n_spl:]"
   ]
  },
  {
   "cell_type": "code",
   "execution_count": 12,
   "metadata": {},
   "outputs": [
    {
     "name": "stdout",
     "output_type": "stream",
     "text": [
      "950\n",
      "18056\n"
     ]
    }
   ],
   "source": [
    "print(len(new_train))\n",
    "print(len(new_unlabeled))"
   ]
  },
  {
   "cell_type": "code",
   "execution_count": 13,
   "metadata": {},
   "outputs": [],
   "source": [
    "if not os.path.exists(output_dir1 + 'noagri'):\n",
    "    os.makedirs(output_dir1 + 'noagri')\n",
    "if not os.path.exists(output_dir1 + 'agri'):\n",
    "    os.makedirs(output_dir1 + 'agri')"
   ]
  },
  {
   "cell_type": "code",
   "execution_count": 14,
   "metadata": {},
   "outputs": [
    {
     "name": "stdout",
     "output_type": "stream",
     "text": [
      "950\n",
      "Done\n"
     ]
    }
   ],
   "source": [
    "count = 0\n",
    "for src in new_train:\n",
    "    tokens = src.split('/')\n",
    "    dst = output_dir1 + tokens[-2] + '/' + tokens[-1]\n",
    "    copyfile(src, dst)\n",
    "    count += 1\n",
    "print(count)\n",
    "print('Done')"
   ]
  },
  {
   "cell_type": "code",
   "execution_count": 15,
   "metadata": {},
   "outputs": [],
   "source": [
    "if not os.path.exists(output_dir2 + 'noagri'):\n",
    "    os.makedirs(output_dir2 + 'noagri')\n",
    "if not os.path.exists(output_dir2 + 'agri'):\n",
    "    os.makedirs(output_dir2 + 'agri')"
   ]
  },
  {
   "cell_type": "code",
   "execution_count": 16,
   "metadata": {},
   "outputs": [
    {
     "name": "stdout",
     "output_type": "stream",
     "text": [
      "18056\n",
      "Done\n"
     ]
    }
   ],
   "source": [
    "count = 0\n",
    "for src in new_unlabeled:\n",
    "    tokens = src.split('/')\n",
    "    dst = output_dir2 + tokens[-2] + '/' + tokens[-1]\n",
    "    copyfile(src, dst)\n",
    "    count += 1\n",
    "print(count)\n",
    "print('Done')"
   ]
  }
 ],
 "metadata": {
  "kernelspec": {
   "display_name": "Python 3",
   "language": "python",
   "name": "python3"
  },
  "language_info": {
   "codemirror_mode": {
    "name": "ipython",
    "version": 3
   },
   "file_extension": ".py",
   "mimetype": "text/x-python",
   "name": "python",
   "nbconvert_exporter": "python",
   "pygments_lexer": "ipython3",
   "version": "3.7.5"
  }
 },
 "nbformat": 4,
 "nbformat_minor": 4
}
